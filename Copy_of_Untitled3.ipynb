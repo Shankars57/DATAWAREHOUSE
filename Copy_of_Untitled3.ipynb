{
  "nbformat": 4,
  "nbformat_minor": 0,
  "metadata": {
    "colab": {
      "provenance": [],
      "authorship_tag": "ABX9TyMFvHu6Tjiey5atVksFrd8H",
      "include_colab_link": true
    },
    "kernelspec": {
      "name": "python3",
      "display_name": "Python 3"
    },
    "language_info": {
      "name": "python"
    }
  },
  "cells": [
    {
      "cell_type": "markdown",
      "metadata": {
        "id": "view-in-github",
        "colab_type": "text"
      },
      "source": [
        "<a href=\"https://colab.research.google.com/github/Shankars57/DATAWAREHOUSE/blob/main/Copy_of_Untitled3.ipynb\" target=\"_parent\"><img src=\"https://colab.research.google.com/assets/colab-badge.svg\" alt=\"Open In Colab\"/></a>"
      ]
    },
    {
      "cell_type": "code",
      "execution_count": null,
      "metadata": {
        "colab": {
          "base_uri": "https://localhost:8080/"
        },
        "id": "5DGMJHw-vwnJ",
        "outputId": "78f927f8-cfc5-4ab8-eef8-2b7bcfef6c29"
      },
      "outputs": [
        {
          "output_type": "stream",
          "name": "stdout",
          "text": [
            "[[1 2 3]\n",
            " [4 5 6]]  arr shape :- [2 5]\n"
          ]
        }
      ],
      "source": [
        "import numpy as np\n",
        "data = [[1,2,3],[4,5,6]]\n",
        "data\n",
        "arr = np.array(data)\n",
        "arr\n",
        "print(arr,\" arr shape :-\",arr[:,1])"
      ]
    },
    {
      "cell_type": "markdown",
      "source": [],
      "metadata": {
        "id": "Qcc4gfxH0ZDJ"
      }
    },
    {
      "cell_type": "code",
      "source": [
        "data1 = [[1,2,3],[4,5,6],[7,8,9]]\n",
        "arr = np.array(data1)\n",
        "print(arr[:2,1:3])"
      ],
      "metadata": {
        "colab": {
          "base_uri": "https://localhost:8080/"
        },
        "id": "fmjxPUX20ZXC",
        "outputId": "ca73cdcd-1cb5-4352-992d-c1d8d498bc8d"
      },
      "execution_count": null,
      "outputs": [
        {
          "output_type": "stream",
          "name": "stdout",
          "text": [
            "[[2 3]\n",
            " [5 6]]\n"
          ]
        }
      ]
    },
    {
      "cell_type": "code",
      "source": [
        "arr[:1].transpose()\n",
        "print(arr[:1].transpose(),arr[:2].transpose())"
      ],
      "metadata": {
        "colab": {
          "base_uri": "https://localhost:8080/"
        },
        "id": "NOLqog3K2pSS",
        "outputId": "25247862-c793-49f5-d8b4-2f0ec6c48737"
      },
      "execution_count": null,
      "outputs": [
        {
          "output_type": "stream",
          "name": "stdout",
          "text": [
            "[[1]\n",
            " [2]\n",
            " [3]] [[1 4]\n",
            " [2 5]\n",
            " [3 6]]\n"
          ]
        }
      ]
    },
    {
      "cell_type": "code",
      "source": [
        "import numpy as np\n",
        "data3 = [[1,2,3],[4,5,6],[7,8,9],[10,11,12],\n",
        " [13,14,15],[16,17,18]]\n",
        "arr3 = np.array(data3)\n",
        "arr3 = arr.swapaxes(0,1)\n",
        "print(arr3[:1,:])"
      ],
      "metadata": {
        "colab": {
          "base_uri": "https://localhost:8080/"
        },
        "id": "zMZv_jp53Qna",
        "outputId": "db02180f-0e7b-4716-8d17-cd8ee9ec1f81"
      },
      "execution_count": null,
      "outputs": [
        {
          "output_type": "stream",
          "name": "stdout",
          "text": [
            "[[[ 1  2  3]\n",
            "  [10 11 12]]]\n"
          ]
        }
      ]
    },
    {
      "cell_type": "code",
      "source": [
        "import numpy as np\n",
        "data = [[[1,2,3],[4,5,6],[7,8,9]],[[10,11,12],[13,14,15],[16,17,18]]]\n",
        "arr = np.array(data)\n",
        "print('\\n \\n')\n",
        "res = arr[1][:2,:2]\n",
        "print(res)"
      ],
      "metadata": {
        "colab": {
          "base_uri": "https://localhost:8080/"
        },
        "id": "x7p5ujMO6gii",
        "outputId": "3c32f0e0-c9b4-4917-f190-1b6b02808379"
      },
      "execution_count": null,
      "outputs": [
        {
          "output_type": "stream",
          "name": "stdout",
          "text": [
            "\n",
            " \n",
            "\n",
            "[[10 11]\n",
            " [13 14]]\n"
          ]
        }
      ]
    },
    {
      "cell_type": "code",
      "source": [],
      "metadata": {
        "id": "hxEXcdq_-K73"
      },
      "execution_count": null,
      "outputs": []
    }
  ]
}